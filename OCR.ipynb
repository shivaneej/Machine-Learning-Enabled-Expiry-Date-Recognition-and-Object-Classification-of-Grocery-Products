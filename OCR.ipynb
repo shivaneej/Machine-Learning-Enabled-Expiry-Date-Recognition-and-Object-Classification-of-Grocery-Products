{
  "nbformat": 4,
  "nbformat_minor": 0,
  "metadata": {
    "colab": {
      "provenance": []
    },
    "kernelspec": {
      "name": "python3",
      "display_name": "Python 3"
    },
    "language_info": {
      "name": "python"
    }
  },
  "cells": [
    {
      "cell_type": "code",
      "execution_count": null,
      "metadata": {
        "id": "3_x6exj-_IKi"
      },
      "outputs": [],
      "source": [
        "!sudo apt install tesseract-ocr\n",
        "!pip install pytesseract"
      ]
    },
    {
      "cell_type": "code",
      "source": [
        "pytesseract.pytesseract.tesseract_cmd = r'/usr/local/bin/pytesseract'\n",
        "pytesseract.pytesseract.tesseract_cmd = ( r'/usr/bin/tesseract' )"
      ],
      "metadata": {
        "id": "gpT3bm3IAQAQ"
      },
      "execution_count": null,
      "outputs": []
    },
    {
      "cell_type": "code",
      "source": [
        "import cv2 \n",
        "import pytesseract\n",
        "\n",
        "img = cv2.imread('/content/test.jpeg')\n",
        "print(img.shape)\n",
        "# img = cv2.imread('/content/img_00018.jpg')\n",
        "\n",
        "# Adding custom options\n",
        "custom_config = r'--oem 3 --psm 6'\n",
        "pytesseract.image_to_string(img, config=custom_config)"
      ],
      "metadata": {
        "id": "mMJfDhN6AAW8"
      },
      "execution_count": null,
      "outputs": []
    },
    {
      "cell_type": "code",
      "source": [
        "import cv2\n",
        "import matplotlib.pyplot as plt\n",
        "import numpy as np\n",
        "from sklearn.cluster import DBSCAN\n",
        "from google.colab.patches import cv2_imshow\n",
        "\n",
        "\n",
        "img = cv2.imread('/content/img_00018.jpg')\n",
        "print(img.shape)\n",
        "Z = img\n",
        "# Z = np.float32(img.reshape((-1,3)))\n",
        "# y = np.uint8(Z)\n",
        "# cv2_imshow(y)\n",
        "db = DBSCAN(eps=0.3, min_samples=100).fit(Z[:,:2])\n",
        "s = np.uint8(db.labels_.reshape(img.shape[:2]))\n",
        "print(s)\n",
        "# plt.imshow(s)\n",
        "# plt.show()\n",
        "\n",
        "print(s.shape)\n",
        "cv2_imshow(s)\n",
        "\n"
      ],
      "metadata": {
        "id": "pCso58cmWMAG"
      },
      "execution_count": null,
      "outputs": []
    },
    {
      "cell_type": "code",
      "source": [
        "from skimage.io import imread\n",
        "from skimage.color import rgb2gray\n",
        "import numpy as np\n",
        "import matplotlib.pyplot as plt\n",
        "%matplotlib inline\n",
        "from scipy import ndimage\n",
        "# Scaling the image pixels values within 0-1\n",
        "img = imread('/content/img_00018.jpg') / 255\n",
        "plt.imshow(img)\n",
        "plt.title('Original')\n",
        "plt.show()"
      ],
      "metadata": {
        "id": "cqGeCqP_aefj"
      },
      "execution_count": null,
      "outputs": []
    },
    {
      "cell_type": "code",
      "source": [
        "# For clustering the image using k-means, we first need to convert it into a 2-dimensional array\n",
        "image_2D = img.reshape(img.shape[0]*img.shape[1], img.shape[2])\n",
        "# Use KMeans clustering algorithm from sklearn.cluster to cluster pixels in image\n",
        "from sklearn.cluster import KMeans\n",
        "# tweak the cluster size and see what happens to the Output\n",
        "kmeans = KMeans(n_clusters=2, random_state=0).fit(image_2D)\n",
        "clustered = kmeans.cluster_centers_[kmeans.labels_]\n",
        "# Reshape back the image from 2D to 3D image\n",
        "clustered_3D = clustered.reshape(img.shape[0], img.shape[1], img.shape[2])\n",
        "plt.imshow(clustered_3D)\n",
        "plt.title('Clustered Image')\n",
        "plt.show()"
      ],
      "metadata": {
        "id": "cVPX1uDlanNJ"
      },
      "execution_count": null,
      "outputs": []
    },
    {
      "cell_type": "code",
      "source": [
        "# print(clustered_3D*255)\n",
        "custom_config = r'--oem 3 --psm 6'\n",
        "inx = clustered_3D.astype(np.uint8)\n",
        "\n",
        "pytesseract.image_to_string(inx, config=custom_config)"
      ],
      "metadata": {
        "id": "0_2-ab9Uau1k"
      },
      "execution_count": null,
      "outputs": []
    },
    {
      "cell_type": "code",
      "source": [
        "import pytesseract\n",
        "import shutil\n",
        "import os\n",
        "import random\n",
        "try:\n",
        " from PIL import Image\n",
        "except ImportError:\n",
        " import Image"
      ],
      "metadata": {
        "id": "21YU4UGddOy3"
      },
      "execution_count": null,
      "outputs": []
    },
    {
      "cell_type": "code",
      "source": [
        "image_path_in_colab='/content/img_00008.jpg'\n",
        "extractedInformation = pytesseract.image_to_string(Image.open(image_path_in_colab))\n",
        "\n",
        "print(extractedInformation)"
      ],
      "metadata": {
        "id": "Zz_bLe5TdVMw"
      },
      "execution_count": null,
      "outputs": []
    },
    {
      "cell_type": "code",
      "source": [
        "print(pytesseract.image_to_boxes(Image.open(image_path_in_colab)))\n"
      ],
      "metadata": {
        "id": "m323Wnt2dht6"
      },
      "execution_count": null,
      "outputs": []
    },
    {
      "cell_type": "code",
      "source": [
        "im_gray = cv2.imread('/content/img_00020.jpg', cv2.IMREAD_GRAYSCALE)\n",
        "print(im_gray.shape)\n",
        "# cv2_imshow(im_gray)\n",
        "# print(im_gray.shape)\n",
        "scaled = (im_gray.shape[1] * 20, im_gray.shape[0] * 20)\n",
        "im_gray = cv2.resize(im_gray, scaled, interpolation = cv2.INTER_AREA)\n",
        "print(im_gray.shape)\n",
        "\n",
        "\n",
        "gaussian_3 = cv2.GaussianBlur(im_gray, (5,5), 10.0)\n",
        "unsharp_image = cv2.addWeighted(im_gray, 2.0, gaussian_3, -1.0, 0)\n",
        "cv2_imshow(unsharp_image)\n",
        "\n",
        "\n",
        "thresh = 100\n",
        "im_bw = cv2.threshold(unsharp_image, thresh, 255, cv2.THRESH_BINARY)[1]\n",
        "# cv2.imwrite('blackwhite.png', im_bw)\n",
        "cv2_imshow(im_bw)"
      ],
      "metadata": {
        "id": "EgkGOdYhfHK-"
      },
      "execution_count": null,
      "outputs": []
    },
    {
      "cell_type": "code",
      "source": [
        "dst = cv2.fastNlMeansDenoising(unsharp_image,None,10,11,31)\n",
        "cv2_imshow(dst)"
      ],
      "metadata": {
        "id": "GSaRWTeL5PO0"
      },
      "execution_count": null,
      "outputs": []
    },
    {
      "cell_type": "code",
      "source": [
        "thresh = 90\n",
        "im_bw = cv2.threshold(dst, thresh, 255, cv2.THRESH_BINARY)[1]\n",
        "# cv2.imwrite('blackwhite.png', im_bw)\n",
        "cv2_imshow(im_bw)"
      ],
      "metadata": {
        "id": "51nsaAmt5xMo"
      },
      "execution_count": null,
      "outputs": []
    },
    {
      "cell_type": "code",
      "source": [
        "kernel = np.ones((5, 5),np.uint8)\n",
        "dilation = cv2.erode(im_bw,kernel,iterations = 1)\n",
        "# opening = cv2.morphologyEx(dilation, cv2.MORPH_OPEN, kernel)\n",
        "cv2_imshow(dilation)\n",
        "# cv2_imshow(opening)\n",
        "\n"
      ],
      "metadata": {
        "id": "hEcZUfto7Cj6"
      },
      "execution_count": null,
      "outputs": []
    },
    {
      "cell_type": "code",
      "source": [
        "kernel = np.ones((7,7),np.float32)/25\n",
        "dst = cv2.filter2D(dilation,-1,kernel)\n",
        "cv2_imshow(dst)"
      ],
      "metadata": {
        "id": "wuEwPnei8F1E"
      },
      "execution_count": null,
      "outputs": []
    },
    {
      "cell_type": "code",
      "source": [
        "np.unique(dst == unsharp_image)"
      ],
      "metadata": {
        "id": "_0sYYn825Y2n"
      },
      "execution_count": null,
      "outputs": []
    },
    {
      "cell_type": "code",
      "source": [
        "se=cv2.getStructuringElement(cv2.MORPH_RECT , (100,100))\n",
        "bg=cv2.morphologyEx(im_bw, cv2.MORPH_DILATE, se)\n",
        "out_gray=cv2.divide(im_bw, bg, scale=255)\n",
        "out_binary=cv2.threshold(out_gray, 0, 255, cv2.THRESH_OTSU )[1] \n",
        "cv2_imshow(out_binary)"
      ],
      "metadata": {
        "id": "6zHIs4tfhVRd"
      },
      "execution_count": null,
      "outputs": []
    },
    {
      "cell_type": "code",
      "source": [
        "# kernel = np.array([[-1,-1,-1], [-1,11,-1], [-1,-1,-1]])\n",
        "# im_sharp = cv2.filter2D(im_bw, -1, kernel)\n",
        "# cv2_imshow(im_sharp)\n",
        "custom_config = r'--psm 6'\n",
        "extractedInformation = pytesseract.image_to_string(dilation, config = custom_config)\n",
        "print(extractedInformation)\n"
      ],
      "metadata": {
        "id": "g8JQ_poGfofE"
      },
      "execution_count": null,
      "outputs": []
    },
    {
      "cell_type": "code",
      "source": [
        "# Load the library\n",
        "import cv2\n",
        "import pytesseract\n",
        "\n",
        "# Initialize the list\n",
        "img_lst = [\"/content/img_00019.jpg\",]\n",
        "\n",
        "# For each image name in the list\n",
        "for name in img_lst:\n",
        "\n",
        "    # Load the image\n",
        "    img = cv2.imread(name, cv2.IMREAD_GRAYSCALE)\n",
        "    cv2_imshow(img)\n",
        "    scaled = (img.shape[1] * 5, img.shape[0] * 5)\n",
        "    av = cv2.resize(img, scaled, interpolation = cv2.INTER_AREA)\n",
        "\n",
        "    # Convert to gry-scale\n",
        "    # gry = cv2.cvtColor(av, cv2.COLOR_BGR2GRAY)\n",
        "    gry = av\n",
        "\n",
        "    # Erode the image\n",
        "    erd = cv2.erode(gry, None, iterations=1)\n",
        "\n",
        "    \n",
        "\n",
        "    # thresh = 60\n",
        "    # im_bw = cv2.threshold(erd, thresh, 255, cv2.THRESH_BINARY)[1]\n",
        "    plt.imshow(erd, cmap = 'gray')\n",
        "    plt.show()\n",
        "    # OCR with assuming the image as a single uniform block of text\n",
        "    txt = pytesseract.image_to_string(im_bw, config=\"--psm 6\")\n",
        "    print(txt)"
      ],
      "metadata": {
        "id": "EESwFh0Q92gn"
      },
      "execution_count": null,
      "outputs": []
    }
  ]
}